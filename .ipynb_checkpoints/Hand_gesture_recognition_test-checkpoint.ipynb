{
 "cells": [
  {
   "cell_type": "code",
   "execution_count": null,
   "id": "73d18380",
   "metadata": {},
   "outputs": [],
   "source": [
    "from keras.preprocessing import image\n",
    "from keras.models import load_model\n",
    "import numpy as np"
   ]
  },
  {
   "cell_type": "code",
   "execution_count": null,
   "id": "9b12c2c8",
   "metadata": {},
   "outputs": [],
   "source": [
    "model = load_model('model.h5')\n",
    "print('model loaded successfully')\n",
    "def classify(img_file):\n",
    "    img_name = img_file\n",
    "    test_image = image.load_img(img_name,target_size = (256,256),grayscale = True)\n",
    "    test_image = image.img_to_array(test_image)\n",
    "    test_image = np.expand_dims(test_image,axis = 0)\n",
    "    result = model.predict(test_image)\n",
    "    arr = np.array(result[0])\n",
    "    print(arr)\n",
    "    \n",
    "    max_prob = arr.argmax(axis = 0)\n",
    "    max_prob = max_prob+1\n",
    "    print(max_prob)\n",
    "    classes = ['None','One','Two','Three','Four','Five']\n",
    "    result = classes[max_prob-1]\n",
    "    print(img_name,result)\n",
    "   "
   ]
  },
  {
   "cell_type": "code",
   "execution_count": null,
   "id": "78404a10",
   "metadata": {},
   "outputs": [],
   "source": [
    "import os\n",
    "path = 'C:/Users/deybi/Desktop/gggg/dataset/test'\n",
    "files = []\n",
    "# r = root, d = directories, f = files\n",
    "for r,d,f in os.walk(path):\n",
    "    for file in f:\n",
    "        if '.jpg' in file:\n",
    "            files.append(os.path.join(r,file))\n",
    "for f in files:\n",
    "    classify(f)\n",
    "    print('\\n')\n",
    "    print('\\n')"
   ]
  },
  {
   "cell_type": "code",
   "execution_count": null,
   "id": "96175365",
   "metadata": {},
   "outputs": [],
   "source": []
  }
 ],
 "metadata": {
  "kernelspec": {
   "display_name": "Python 3",
   "language": "python",
   "name": "python3"
  },
  "language_info": {
   "codemirror_mode": {
    "name": "ipython",
    "version": 3
   },
   "file_extension": ".py",
   "mimetype": "text/x-python",
   "name": "python",
   "nbconvert_exporter": "python",
   "pygments_lexer": "ipython3",
   "version": "3.8.8"
  }
 },
 "nbformat": 4,
 "nbformat_minor": 5
}
