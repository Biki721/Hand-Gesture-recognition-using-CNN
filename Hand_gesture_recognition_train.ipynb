{
 "cells": [
  {
   "cell_type": "code",
   "execution_count": null,
   "id": "7fb078e7",
   "metadata": {},
   "outputs": [],
   "source": [
    "from keras.models import Sequential\n",
    "from keras.layers import Conv2D\n",
    "from keras.layers import MaxPooling2D\n",
    "from keras.layers import Dropout\n",
    "from keras.layers import Flatten\n",
    "from keras.layers import Dense\n",
    "from keras.preprocessing.image import ImageDataGenerator\n",
    "from keras.callbacks import EarlyStopping,ModelCheckpoint"
   ]
  },
  {
   "cell_type": "code",
   "execution_count": null,
   "id": "5ee881cb",
   "metadata": {},
   "outputs": [],
   "source": [
    "model = Sequential()\n",
    "model.add(Conv2D(32,(3,3),input_shape = (256,256,1),activation = 'relu'))\n",
    "model.add(MaxPooling2D(pool_size = (2,2)))\n",
    "model.add(Conv2D(64,(3,3),activation = 'relu'))\n",
    "model.add(Conv2D(64,(3,3),activation = 'relu'))\n",
    "model.add(MaxPooling2D(pool_size = (2,2)))\n",
    "model.add(Conv2D(128,(3,3),activation = 'relu'))\n",
    "model.add(MaxPooling2D(pool_size = (2,2)))\n",
    "model.add(Conv2D(256,(3,3),activation = 'relu'))\n",
    "model.add(MaxPooling2D(pool_size = (2,2)))\n",
    "model.add(Flatten())\n",
    "model.add(Dense(units = 150,activation = 'relu'))\n",
    "model.add(Dense(units = 200,activation = 'relu'))\n",
    "model.add(Dense(units = 250,activation = 'relu'))\n",
    "model.add(Dropout(0.25))\n",
    "model.add(Dense(units = 6, activation = 'softmax'))\n",
    "model.compile(optimizer = 'adam',loss = 'categorical_crossentropy', metrics = ['accuracy'])\n",
    "train_datagen = ImageDataGenerator(rescale = 1./255,rotation_range = 12.,width_shift_range = 0.2,\n",
    "                                   height_shift_range = 0.2,zoom_range = 0.15,horizontal_flip = True)\n",
    "val_datagen = ImageDataGenerator(rescale = 1./255)"
   ]
  },
  {
   "cell_type": "code",
   "execution_count": null,
   "id": "61f8114a",
   "metadata": {},
   "outputs": [],
   "source": [
    "training_set = train_datagen.flow_from_directory('dataset/train',target_size = (256,256),\n",
    "                                                 batch_size = 8, classes = ['None','One','Two','Three','Four','Five'],\n",
    "                                                 color_mode = 'grayscale',class_mode = 'categorical')\n",
    "val_set = val_datagen.flow_from_directory('dataset/val',target_size = (256,256),\n",
    "                                                 batch_size = 8, classes = ['None','One','Two','Three','Four','Five'],\n",
    "                                                 color_mode = 'grayscale',class_mode = 'categorical')"
   ]
  },
  {
   "cell_type": "code",
   "execution_count": null,
   "id": "da10674c",
   "metadata": {},
   "outputs": [],
   "source": [
    "callback_list = [\n",
    "    EarlyStopping(monitor = 'val_loss',patience = 10),\n",
    "    ModelCheckpoint(filepath = 'model.h5',monitor = 'val_loss',save_best_only = True)\n",
    "]\n",
    "model.fit_generator(training_set,steps_per_epoch = 37,epochs = 25,\n",
    "                    validation_data = val_set,validation_steps = 7),callbacks = callback_list)"
   ]
  },
  {
   "cell_type": "code",
   "execution_count": null,
   "id": "9bbeb62c",
   "metadata": {},
   "outputs": [],
   "source": []
  }
 ],
 "metadata": {
  "kernelspec": {
   "display_name": "Python 3",
   "language": "python",
   "name": "python3"
  },
  "language_info": {
   "codemirror_mode": {
    "name": "ipython",
    "version": 3
   },
   "file_extension": ".py",
   "mimetype": "text/x-python",
   "name": "python",
   "nbconvert_exporter": "python",
   "pygments_lexer": "ipython3",
   "version": "3.8.8"
  }
 },
 "nbformat": 4,
 "nbformat_minor": 5
}
